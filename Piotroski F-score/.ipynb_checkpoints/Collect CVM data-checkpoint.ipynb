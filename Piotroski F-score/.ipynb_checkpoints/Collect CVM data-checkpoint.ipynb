{
 "cells": [
  {
   "cell_type": "markdown",
   "id": "5d947123",
   "metadata": {},
   "source": [
    "# Libraries & databases"
   ]
  },
  {
   "cell_type": "code",
   "execution_count": 1,
   "id": "597e5078",
   "metadata": {},
   "outputs": [],
   "source": [
    "import os\n",
    "import pandas as pd\n",
    "import requests\n",
    "from zipfile import ZipFile\n",
    "import sqlite3"
   ]
  },
  {
   "cell_type": "markdown",
   "id": "071fb0cd",
   "metadata": {},
   "source": [
    "#### Download dados CVM"
   ]
  },
  {
   "cell_type": "code",
   "execution_count": 6,
   "id": "c0a9783c",
   "metadata": {},
   "outputs": [],
   "source": [
    "def baixar_arquivos_cvm(pasta_destino='CVM', anos=range(2016, 2025), baixar_dfp=True, baixar_fre=True, baixar_itr=True):\n",
    "    os.makedirs(pasta_destino, exist_ok=True)\n",
    "\n",
    "    if baixar_dfp:\n",
    "        # DFP\n",
    "        url_base_dfp = 'https://dados.cvm.gov.br/dados/CIA_ABERTA/DOC/DFP/DADOS/'\n",
    "        for ano in anos:\n",
    "            nome_arquivo = f'dfp_cia_aberta_{ano}.zip'\n",
    "            url = url_base_dfp + nome_arquivo\n",
    "            destino = os.path.join(pasta_destino, nome_arquivo)\n",
    "\n",
    "            if not os.path.exists(destino):\n",
    "                print(f'Baixando {nome_arquivo}...')\n",
    "                r = requests.get(url)\n",
    "                with open(destino, 'wb') as f:\n",
    "                    f.write(r.content)\n",
    "            else:\n",
    "                print(f'{nome_arquivo} já existe.')\n",
    "\n",
    "    if baixar_fre:\n",
    "        # FRE – apenas capital_social\n",
    "        url_base_fre = 'https://dados.cvm.gov.br/dados/CIA_ABERTA/DOC/FRE/DADOS/'\n",
    "        for ano in anos:\n",
    "            nome_arquivo = f'fre_cia_aberta_{ano}.zip'\n",
    "            url = url_base_fre + nome_arquivo\n",
    "            destino = os.path.join(pasta_destino, nome_arquivo)\n",
    "\n",
    "            if not os.path.exists(destino):\n",
    "                print(f'Baixando {nome_arquivo} (FRE - capital social)...')\n",
    "                r = requests.get(url)\n",
    "                with open(destino, 'wb') as f:\n",
    "                    f.write(r.content)\n",
    "            else:\n",
    "                print(f'{nome_arquivo} já existe.')\n",
    "\n",
    "    if baixar_itr:\n",
    "        # ITR\n",
    "        url_base_itr = 'https://dados.cvm.gov.br/dados/CIA_ABERTA/DOC/ITR/DADOS/'\n",
    "        for ano in anos:\n",
    "            nome_arquivo = f'itr_cia_aberta_{ano}.zip'\n",
    "            url = url_base_itr + nome_arquivo\n",
    "            destino = os.path.join(pasta_destino, nome_arquivo)\n",
    "\n",
    "            if not os.path.exists(destino):\n",
    "                print(f'Baixando {nome_arquivo} (ITR)...')\n",
    "                r = requests.get(url)\n",
    "                with open(destino, 'wb') as f:\n",
    "                    f.write(r.content)\n",
    "            else:\n",
    "                print(f'{nome_arquivo} já existe.')\n",
    "\n",
    "def extrair_arquivos_zip(pasta_zip='CVM', pasta_saida='CVM_EXTRAIDO'):\n",
    "    os.makedirs(pasta_saida, exist_ok=True)\n",
    "    \n",
    "    for arquivo in os.listdir(pasta_zip):\n",
    "        if arquivo.endswith('.zip'):\n",
    "            caminho_zip = os.path.join(pasta_zip, arquivo)\n",
    "            try:\n",
    "                with ZipFile(caminho_zip, 'r') as zip_ref:\n",
    "                    zip_ref.extractall(pasta_saida)\n",
    "            except Exception as e:\n",
    "                print(f\"Erro ao extrair {arquivo}: {e}\")\n",
    "\n",
    "def combinar_csv_por_tipo(demonstrativo, pasta='CVM_EXTRAIDO', anos=range(2016, 2025), prefixo='dfp'):\n",
    "    df_completo = pd.DataFrame()\n",
    "\n",
    "    for ano in anos:\n",
    "        if prefixo == 'fre':\n",
    "            nome_arquivo = f'fre_cia_aberta_{demonstrativo}_{ano}.csv'\n",
    "        else:\n",
    "            nome_arquivo = f'{prefixo}_cia_aberta_{demonstrativo}_{ano}.csv'\n",
    "\n",
    "        caminho = os.path.join(pasta, nome_arquivo)\n",
    "\n",
    "        if os.path.exists(caminho):\n",
    "            try:\n",
    "                df = pd.read_csv(caminho, sep=';', decimal=',', encoding='ISO-8859-1', low_memory=False)\n",
    "                df['ANO'] = ano\n",
    "                df_completo = pd.concat([df_completo, df], ignore_index=True)\n",
    "            except Exception as e:\n",
    "                print(f\"Erro ao ler {nome_arquivo}: {e}\")\n",
    "        else:\n",
    "            print(f\"Arquivo não encontrado: {nome_arquivo}\")\n",
    "    \n",
    "    return df_completo"
   ]
  },
  {
   "cell_type": "code",
   "execution_count": 7,
   "id": "ce450e34",
   "metadata": {
    "scrolled": true
   },
   "outputs": [
    {
     "name": "stdout",
     "output_type": "stream",
     "text": [
      "dfp_cia_aberta_2016.zip já existe.\n",
      "dfp_cia_aberta_2017.zip já existe.\n",
      "dfp_cia_aberta_2018.zip já existe.\n",
      "dfp_cia_aberta_2019.zip já existe.\n",
      "dfp_cia_aberta_2020.zip já existe.\n",
      "dfp_cia_aberta_2021.zip já existe.\n",
      "dfp_cia_aberta_2022.zip já existe.\n",
      "dfp_cia_aberta_2023.zip já existe.\n",
      "dfp_cia_aberta_2024.zip já existe.\n",
      "Baixando fre_cia_aberta_2016.zip (FRE - capital social)...\n",
      "Baixando fre_cia_aberta_2017.zip (FRE - capital social)...\n",
      "Baixando fre_cia_aberta_2018.zip (FRE - capital social)...\n",
      "Baixando fre_cia_aberta_2019.zip (FRE - capital social)...\n",
      "Baixando fre_cia_aberta_2020.zip (FRE - capital social)...\n",
      "Baixando fre_cia_aberta_2021.zip (FRE - capital social)...\n",
      "Baixando fre_cia_aberta_2022.zip (FRE - capital social)...\n",
      "Baixando fre_cia_aberta_2023.zip (FRE - capital social)...\n",
      "Baixando fre_cia_aberta_2024.zip (FRE - capital social)...\n",
      "itr_cia_aberta_2016.zip já existe.\n",
      "itr_cia_aberta_2017.zip já existe.\n",
      "itr_cia_aberta_2018.zip já existe.\n",
      "itr_cia_aberta_2019.zip já existe.\n",
      "itr_cia_aberta_2020.zip já existe.\n",
      "itr_cia_aberta_2021.zip já existe.\n",
      "itr_cia_aberta_2022.zip já existe.\n",
      "itr_cia_aberta_2023.zip já existe.\n",
      "itr_cia_aberta_2024.zip já existe.\n",
      "Erro ao extrair fre_cia_aberta_capital_social_2016.zip: File is not a zip file\n",
      "Erro ao extrair fre_cia_aberta_capital_social_2017.zip: File is not a zip file\n",
      "Erro ao extrair fre_cia_aberta_capital_social_2018.zip: File is not a zip file\n",
      "Erro ao extrair fre_cia_aberta_capital_social_2019.zip: File is not a zip file\n",
      "Erro ao extrair fre_cia_aberta_capital_social_2020.zip: File is not a zip file\n",
      "Erro ao extrair fre_cia_aberta_capital_social_2021.zip: File is not a zip file\n",
      "Erro ao extrair fre_cia_aberta_capital_social_2022.zip: File is not a zip file\n",
      "Erro ao extrair fre_cia_aberta_capital_social_2023.zip: File is not a zip file\n",
      "Erro ao extrair fre_cia_aberta_capital_social_2024.zip: File is not a zip file\n"
     ]
    }
   ],
   "source": [
    "baixar_arquivos_cvm()\n",
    "extrair_arquivos_zip()"
   ]
  },
  {
   "cell_type": "code",
   "execution_count": 8,
   "id": "c161f3b4",
   "metadata": {
    "scrolled": true
   },
   "outputs": [
    {
     "name": "stdout",
     "output_type": "stream",
     "text": [
      "Carregando demonstrativo DFP: BPA_con\n",
      "Carregando demonstrativo DFP: BPP_con\n",
      "Carregando demonstrativo DFP: DRE_con\n",
      "Carregando demonstrativo DFP: DFC_MI_con\n",
      "Carregando demonstrativo FRE: capital_social\n"
     ]
    }
   ],
   "source": [
    "# Lista de demonstrativos DFP que queremos processar\n",
    "tipos_demonstrativos_dfp = ['BPA_con', 'BPP_con', 'DRE_con', 'DFC_MI_con']\n",
    "\n",
    "# Lista separada para FRE que queremos carregar\n",
    "tipos_fre = ['capital_social']  # por enquanto, só esse\n",
    "\n",
    "# Dicionário para armazenar todos os DataFrames\n",
    "dfs_cvm = {}\n",
    "\n",
    "# Anos a considerar\n",
    "anos = range(2018, 2025)\n",
    "\n",
    "# Carregar demonstrativos DFP\n",
    "for tipo in tipos_demonstrativos_dfp:\n",
    "    print(f\"Carregando demonstrativo DFP: {tipo}\")\n",
    "    df = combinar_csv_por_tipo(tipo, pasta='CVM_EXTRAIDO', anos=anos, prefixo='dfp')\n",
    "    dfs_cvm[f'dfp_{tipo}'] = df  # usa prefixo na chave\n",
    "\n",
    "# Carregar demonstrativos FRE\n",
    "for tipo in tipos_fre:\n",
    "    print(f\"Carregando demonstrativo FRE: {tipo}\")\n",
    "    df = combinar_csv_por_tipo(tipo, pasta='CVM_EXTRAIDO', anos=anos, prefixo='fre')\n",
    "    dfs_cvm[f'fre_{tipo}'] = df  # usa prefixo na chave"
   ]
  },
  {
   "cell_type": "markdown",
   "id": "1cd30bcd",
   "metadata": {},
   "source": [
    "#### Criação banco de dados SQL"
   ]
  },
  {
   "cell_type": "code",
   "execution_count": 11,
   "id": "ee3cd569",
   "metadata": {
    "scrolled": true
   },
   "outputs": [
    {
     "ename": "PermissionError",
     "evalue": "[WinError 32] O arquivo já está sendo usado por outro processo: 'dados_cvm.db'",
     "output_type": "error",
     "traceback": [
      "\u001b[1;31m---------------------------------------------------------------------------\u001b[0m",
      "\u001b[1;31mPermissionError\u001b[0m                           Traceback (most recent call last)",
      "Input \u001b[1;32mIn [11]\u001b[0m, in \u001b[0;36m<cell line: 4>\u001b[1;34m()\u001b[0m\n\u001b[0;32m      3\u001b[0m \u001b[38;5;66;03m# Remove o banco anterior se quiser começar limpo\u001b[39;00m\n\u001b[0;32m      4\u001b[0m \u001b[38;5;28;01mif\u001b[39;00m os\u001b[38;5;241m.\u001b[39mpath\u001b[38;5;241m.\u001b[39mexists(caminho_banco):\n\u001b[1;32m----> 5\u001b[0m     \u001b[43mos\u001b[49m\u001b[38;5;241;43m.\u001b[39;49m\u001b[43mremove\u001b[49m\u001b[43m(\u001b[49m\u001b[43mcaminho_banco\u001b[49m\u001b[43m)\u001b[49m\n\u001b[0;32m      7\u001b[0m \u001b[38;5;66;03m# Cria conexão com o banco\u001b[39;00m\n\u001b[0;32m      8\u001b[0m conn \u001b[38;5;241m=\u001b[39m sqlite3\u001b[38;5;241m.\u001b[39mconnect(caminho_banco)\n",
      "\u001b[1;31mPermissionError\u001b[0m: [WinError 32] O arquivo já está sendo usado por outro processo: 'dados_cvm.db'"
     ]
    }
   ],
   "source": [
    "caminho_banco = 'dados_cvm.db'\n",
    "\n",
    "# Remove o banco anterior se quiser começar limpo\n",
    "if os.path.exists(caminho_banco):\n",
    "    os.remove(caminho_banco)\n",
    "\n",
    "# Cria conexão com o banco\n",
    "conn = sqlite3.connect(caminho_banco)\n",
    "\n",
    "# Salva cada DataFrame no banco\n",
    "for nome, df in dfs_cvm.items():\n",
    "    nome_tabela = nome.lower()\n",
    "    print(f'Salvando tabela {nome_tabela} no banco...')\n",
    "    df.to_sql(nome_tabela, conn, if_exists='replace', index=False)\n",
    "\n",
    "# (Opcional) Criar também a tabela de empresas únicas\n",
    "# Use uma tabela que certamente tem os dados básicos da empresa\n",
    "df_bpa = dfs_cvm.get('dfp_BPA_con')  # ou 'itr_BPA_con' se preferir\n",
    "if df_bpa is not None:\n",
    "    empresas = df_bpa[['CD_CVM', 'DENOM_CIA', 'CNPJ_CIA']].drop_duplicates()\n",
    "    empresas.to_sql('empresas', conn, if_exists='replace', index=False)\n",
    "    print('Tabela de empresas criada com sucesso.')\n",
    "\n",
    "conn.close()\n",
    "print('✅ Banco de dados criado com sucesso!')"
   ]
  }
 ],
 "metadata": {
  "kernelspec": {
   "display_name": "Python 3 (ipykernel)",
   "language": "python",
   "name": "python3"
  },
  "language_info": {
   "codemirror_mode": {
    "name": "ipython",
    "version": 3
   },
   "file_extension": ".py",
   "mimetype": "text/x-python",
   "name": "python",
   "nbconvert_exporter": "python",
   "pygments_lexer": "ipython3",
   "version": "3.9.12"
  }
 },
 "nbformat": 4,
 "nbformat_minor": 5
}
